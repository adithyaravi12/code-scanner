{
 "cells": [
  {
   "cell_type": "code",
   "execution_count": 1,
   "id": "ab5beffb",
   "metadata": {},
   "outputs": [],
   "source": [
    "import cv2\n",
    "import numpy as np\n",
    "from pyzbar.pyzbar import decode"
   ]
  },
  {
   "cell_type": "code",
   "execution_count": 2,
   "id": "9af018e6",
   "metadata": {},
   "outputs": [],
   "source": [
    "def decoding(image):\n",
    "    imgGray = cv2.cvtColor(image, cv2.COLOR_BGR2GRAY)\n",
    "    scan_img = decode(imgGray)\n",
    "    \n",
    "    for obj in scan_img:\n",
    "        pts = obj.polygon\n",
    "        (x, y, w, h) = obj.rect\n",
    "        pt = np.array(pts, np.int32)\n",
    "        pt = pt.reshape((-1, 1, 2))\n",
    "        cv2.polylines(image, [pt], True, (0,255,0), 3)\n",
    "        \n",
    "        data = obj.data.decode(\"utf-8\")\n",
    "        data_type = obj.type\n",
    "        \n",
    "        s = \"Data: \" + str(data) + \" | Type: \" + str(data_type)\n",
    "        \n",
    "        cv2.putText(frame, s, (x, y), cv2.FONT_HERSHEY_COMPLEX, 0.6, (0,255,0), 2)\n",
    "        print(\"Code: \"+data+\" | Type: \"+data_type)"
   ]
  },
  {
   "cell_type": "code",
   "execution_count": 3,
   "id": "f8c289c3",
   "metadata": {},
   "outputs": [
    {
     "name": "stdout",
     "output_type": "stream",
     "text": [
      "Code: 0081112000089 | Type: EAN13\n",
      "Code: 0081112000089 | Type: EAN13\n",
      "Code: 0081112000089 | Type: EAN13\n",
      "Code: 0081112000089 | Type: EAN13\n",
      "Code: 6050600891458 | Type: EAN13\n",
      "Code: 6050600891458 | Type: EAN13\n",
      "Code: 6050600891458 | Type: EAN13\n"
     ]
    }
   ],
   "source": [
    "cap = cv2.VideoCapture(0)\n",
    "while True:\n",
    "    ret, frame = cap.read()\n",
    "    decoding(frame)\n",
    "    cv2.imshow(\"QR Scanner\", frame)\n",
    "    \n",
    "    if cv2.waitKey(1) & 0xFF == ord('q'):\n",
    "        break"
   ]
  },
  {
   "cell_type": "code",
   "execution_count": null,
   "id": "ff0fc30a",
   "metadata": {},
   "outputs": [],
   "source": []
  }
 ],
 "metadata": {
  "kernelspec": {
   "display_name": "Python 3 (ipykernel)",
   "language": "python",
   "name": "python3"
  },
  "language_info": {
   "codemirror_mode": {
    "name": "ipython",
    "version": 3
   },
   "file_extension": ".py",
   "mimetype": "text/x-python",
   "name": "python",
   "nbconvert_exporter": "python",
   "pygments_lexer": "ipython3",
   "version": "3.9.7"
  }
 },
 "nbformat": 4,
 "nbformat_minor": 5
}
